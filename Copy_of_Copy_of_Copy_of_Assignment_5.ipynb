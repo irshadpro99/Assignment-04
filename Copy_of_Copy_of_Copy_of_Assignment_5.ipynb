{
  "nbformat": 4,
  "nbformat_minor": 0,
  "metadata": {
    "colab": {
      "private_outputs": true,
      "provenance": [],
      "authorship_tag": "ABX9TyMDx1IvuJpijNG9wR/rGOgO",
      "include_colab_link": true
    },
    "kernelspec": {
      "name": "python3",
      "display_name": "Python 3"
    },
    "language_info": {
      "name": "python"
    }
  },
  "cells": [
    {
      "cell_type": "markdown",
      "metadata": {
        "id": "view-in-github",
        "colab_type": "text"
      },
      "source": [
        "<a href=\"https://colab.research.google.com/github/irshadpro99/Assignment-04/blob/main/Copy_of_Copy_of_Copy_of_Assignment_5.ipynb\" target=\"_parent\"><img src=\"https://colab.research.google.com/assets/colab-badge.svg\" alt=\"Open In Colab\"/></a>"
      ]
    },
    {
      "cell_type": "code",
      "source": [
        "\n",
        "\n",
        "# Dictionary\n",
        "person = {\n",
        "    \"name\": \"Irshad\",\n",
        "    \"age\": 22,\n",
        "    \"city\": \"Multan\"\n",
        "}\n",
        "\n",
        "# Display the entire Dictionary\n",
        "print(\"Person Info:\", person)\n",
        "\n",
        "# Access a specific value by key\n",
        "print(\"Name:\", person[\"name\"])\n",
        "\n",
        "# Add a new key-value pair\n",
        "person[\"profession\"] = \"Engineer\"\n",
        "\n",
        "# Display the updated dictionary\n",
        "print(\"Updated Person Info:\", person)"
      ],
      "metadata": {
        "id": "KBK83d7D_Y8m"
      },
      "execution_count": null,
      "outputs": []
    }
  ]
}