{
  "nbformat": 4,
  "nbformat_minor": 0,
  "metadata": {
    "colab": {
      "provenance": [],
      "authorship_tag": "ABX9TyN6U/7EQbLoKLgBhM4vjQBK",
      "include_colab_link": true
    },
    "kernelspec": {
      "name": "python3",
      "display_name": "Python 3"
    },
    "language_info": {
      "name": "python"
    }
  },
  "cells": [
    {
      "cell_type": "markdown",
      "metadata": {
        "id": "view-in-github",
        "colab_type": "text"
      },
      "source": [
        "<a href=\"https://colab.research.google.com/github/irshadpro99/Assignment-04/blob/main/Copy_of_Assignment_4.ipynb\" target=\"_parent\"><img src=\"https://colab.research.google.com/assets/colab-badge.svg\" alt=\"Open In Colab\"/></a>"
      ]
    },
    {
      "cell_type": "code",
      "execution_count": null,
      "metadata": {
        "colab": {
          "base_uri": "https://localhost:8080/"
        },
        "id": "sFYDsePKMVEx",
        "outputId": "84d1977b-8e86-492a-ac07-6aca31e61ea3"
      },
      "outputs": [
        {
          "output_type": "stream",
          "name": "stdout",
          "text": [
            "22\n",
            "2025\n",
            "30\n"
          ]
        }
      ],
      "source": [
        "# Integer In python(Int) ✅ Without Decimal point\n",
        "\n",
        "# Age: 22\n",
        "# Year: 2025\n",
        "# Number Of Students:30\n",
        "\n",
        "# Integer In python(Int) ✅ Without Decimal point\n",
        "\n",
        "# Age: 22\n",
        "# Year: 2025\n",
        "# Number Of Students:30\n",
        "\n",
        "Age = 22\n",
        "Year = 2025\n",
        "Number_Of_Students = 30\n",
        "# Integer In python(Int) ✅ Without Decimal point\n",
        "\n",
        "# Age: 22\n",
        "# Year: 2025\n",
        "# Number Of Students:30\n",
        "\n",
        "# Integer In python(Int) ✅ Without Decimal point\n",
        "\n",
        "# Age: 22\n",
        "# Year: 2025\n",
        "# Number Of Students:30\n",
        "\n",
        "Age = 22\n",
        "Year = 2025\n",
        "Number_Of_Students = 30\n",
        "print(Age)\n",
        "print(Year)\n",
        "print(Number_Of_Students)"
      ]
    },
    {
      "cell_type": "code",
      "source": [
        "# Float(float) In python✅ With Decimal Point\n",
        "\n",
        "# Weight: 70.8         ✅# in kg\n",
        "# Oil Quantity: 80.8   ✅# in liters\n",
        "# Temperature: 37.7    ✅# in Celsius\n",
        "\n",
        "\n",
        "weight = 70.8\n",
        "oil_quantity = 80.8\n",
        "temperature = 37.7\n",
        "\n",
        "print(weight)\n",
        "print(oil_quantity)\n",
        "print(temperature)"
      ],
      "metadata": {
        "colab": {
          "base_uri": "https://localhost:8080/"
        },
        "collapsed": true,
        "id": "rijlyJ0sdFhI",
        "outputId": "d7acc432-468b-4c0c-df35-b2dc162feef9"
      },
      "execution_count": null,
      "outputs": [
        {
          "output_type": "stream",
          "name": "stdout",
          "text": [
            "70.8\n",
            "80.8\n",
            "37.7\n"
          ]
        }
      ]
    },
    {
      "cell_type": "code",
      "source": [
        "# String(str) In python\n",
        "name = 'Muhammad'\n",
        "student_name = 'Irshad'\n",
        "address = 'Multan'\n",
        "phone_number = '+923434545445'\n",
        "print(name)\n",
        "print(student_name)\n",
        "print(address)\n",
        "print(phone_number)"
      ],
      "metadata": {
        "colab": {
          "base_uri": "https://localhost:8080/"
        },
        "id": "hwfSL8jyfxad",
        "outputId": "982f5e10-f787-44dd-834d-d4a738c0ef71"
      },
      "execution_count": null,
      "outputs": [
        {
          "output_type": "stream",
          "name": "stdout",
          "text": [
            "Muhammad\n",
            "Irshad\n",
            "Multan\n",
            "+923434545445\n"
          ]
        }
      ]
    },
    {
      "cell_type": "code",
      "source": [
        "# Boolean(bool) In Python\n",
        "fan_on = True\n",
        "fan_off = False\n",
        "print(fan_on)\n",
        "print(fan_off)"
      ],
      "metadata": {
        "colab": {
          "base_uri": "https://localhost:8080/"
        },
        "id": "-OsheBnCil2q",
        "outputId": "fcb8f837-3a7a-4a14-efea-e19d2aef7616"
      },
      "execution_count": null,
      "outputs": [
        {
          "output_type": "stream",
          "name": "stdout",
          "text": [
            "True\n",
            "False\n"
          ]
        }
      ]
    }
  ]
}